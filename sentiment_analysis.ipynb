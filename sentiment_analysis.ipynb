{
 "cells": [
  {
   "cell_type": "code",
   "execution_count": 1,
   "metadata": {},
   "outputs": [
    {
     "output_type": "stream",
     "name": "stderr",
     "text": [
      "[nltk_data] Downloading package vader_lexicon to /Users/dminzi-\n[nltk_data]     lt/nltk_data...\n[nltk_data]   Package vader_lexicon is already up-to-date!\n"
     ]
    }
   ],
   "source": [
    "import pandas as pd\n",
    "from textblob import TextBlob\n",
    "import nltk\n",
    "nltk.download('vader_lexicon')\n",
    "from nltk.sentiment.vader import SentimentIntensityAnalyzer\n",
    "import re"
   ]
  },
  {
   "cell_type": "code",
   "execution_count": 2,
   "metadata": {},
   "outputs": [],
   "source": [
    "df = pd.read_csv('../what_goes_in/whatGoesIn.csv')"
   ]
  },
  {
   "cell_type": "code",
   "execution_count": 3,
   "metadata": {},
   "outputs": [],
   "source": [
    "def flag_prnt(row):\n",
    "    if row['body'][:7] == \"PARENT:\":\n",
    "        return 1\n",
    "    return 0\n",
    "\n",
    "def remove_prnt_tag(row):\n",
    "    if row['body'][:7] == \"PARENT:\":\n",
    "        return row['body'][8:]      # intentional removes extra space\n",
    "    return row['body']"
   ]
  },
  {
   "cell_type": "code",
   "execution_count": 4,
   "metadata": {},
   "outputs": [],
   "source": [
    "df['pres_body'] = df.apply(remove_prnt_tag, axis=1)"
   ]
  },
  {
   "cell_type": "code",
   "execution_count": 5,
   "metadata": {},
   "outputs": [],
   "source": [
    "def clean_body(row):\n",
    "    return re.sub(\"[^a-zA-Z \\' ' \\. \\,]+\", \"\", row['pres_body']).lower()"
   ]
  },
  {
   "cell_type": "code",
   "execution_count": 6,
   "metadata": {},
   "outputs": [],
   "source": [
    "df['clean_body'] = df.apply(clean_body, axis=1)"
   ]
  },
  {
   "cell_type": "code",
   "execution_count": 7,
   "metadata": {},
   "outputs": [
    {
     "output_type": "execute_result",
     "data": {
      "text/plain": [
       "0.075"
      ]
     },
     "metadata": {},
     "execution_count": 7
    }
   ],
   "source": [
    "TextBlob(df['clean_body'][1]).sentiment.polarity"
   ]
  },
  {
   "cell_type": "code",
   "execution_count": 8,
   "metadata": {},
   "outputs": [],
   "source": [
    "def tb_sentiment(row):\n",
    "    tb_res = TextBlob(row['clean_body'])\n",
    "\n",
    "    if tb_res.sentiment.polarity > 0.05:\n",
    "        return 1\n",
    "    elif tb_res.sentiment.polarity < 0:\n",
    "        return -1\n",
    "\n",
    "    return 0\n"
   ]
  },
  {
   "cell_type": "code",
   "execution_count": 9,
   "metadata": {},
   "outputs": [],
   "source": [
    "df['tb_sentiment'] = df.apply(tb_sentiment, axis=1)"
   ]
  },
  {
   "cell_type": "code",
   "execution_count": 10,
   "metadata": {},
   "outputs": [
    {
     "output_type": "execute_result",
     "data": {
      "text/plain": [
       "       Unnamed: 0                                         parent_url  \\\n",
       "43326       43326  https://reddit.com/r/CrohnsDisease/comments/kp...   \n",
       "36485       36485  https://reddit.com/r/CrohnsDisease/comments/kd...   \n",
       "\n",
       "       parent_upvotes  comment_upvotes                _date      subreddit  \\\n",
       "43326             828              823  2021-01-03 19:10:01  CrohnsDisease   \n",
       "36485             547              551  2020-12-15 17:57:24  CrohnsDisease   \n",
       "\n",
       "                                                    body  \\\n",
       "43326  PARENT: * It hits everyone differently. For ea...   \n",
       "36485  PARENT: I'm a nurse on a covid unit and am get...   \n",
       "\n",
       "                                               pres_body  \\\n",
       "43326  * It hits everyone differently. For each perso...   \n",
       "36485  I'm a nurse on a covid unit and am getting the...   \n",
       "\n",
       "                                              clean_body  tb_sentiment  \n",
       "43326   it hits everyone differently. for each person...             1  \n",
       "36485  i'm a nurse on a covid unit and am getting the...             1  "
      ],
      "text/html": "<div>\n<style scoped>\n    .dataframe tbody tr th:only-of-type {\n        vertical-align: middle;\n    }\n\n    .dataframe tbody tr th {\n        vertical-align: top;\n    }\n\n    .dataframe thead th {\n        text-align: right;\n    }\n</style>\n<table border=\"1\" class=\"dataframe\">\n  <thead>\n    <tr style=\"text-align: right;\">\n      <th></th>\n      <th>Unnamed: 0</th>\n      <th>parent_url</th>\n      <th>parent_upvotes</th>\n      <th>comment_upvotes</th>\n      <th>_date</th>\n      <th>subreddit</th>\n      <th>body</th>\n      <th>pres_body</th>\n      <th>clean_body</th>\n      <th>tb_sentiment</th>\n    </tr>\n  </thead>\n  <tbody>\n    <tr>\n      <th>43326</th>\n      <td>43326</td>\n      <td>https://reddit.com/r/CrohnsDisease/comments/kp...</td>\n      <td>828</td>\n      <td>823</td>\n      <td>2021-01-03 19:10:01</td>\n      <td>CrohnsDisease</td>\n      <td>PARENT: * It hits everyone differently. For ea...</td>\n      <td>* It hits everyone differently. For each perso...</td>\n      <td>it hits everyone differently. for each person...</td>\n      <td>1</td>\n    </tr>\n    <tr>\n      <th>36485</th>\n      <td>36485</td>\n      <td>https://reddit.com/r/CrohnsDisease/comments/kd...</td>\n      <td>547</td>\n      <td>551</td>\n      <td>2020-12-15 17:57:24</td>\n      <td>CrohnsDisease</td>\n      <td>PARENT: I'm a nurse on a covid unit and am get...</td>\n      <td>I'm a nurse on a covid unit and am getting the...</td>\n      <td>i'm a nurse on a covid unit and am getting the...</td>\n      <td>1</td>\n    </tr>\n  </tbody>\n</table>\n</div>"
     },
     "metadata": {},
     "execution_count": 10
    }
   ],
   "source": [
    "df[df.tb_sentiment == 1][df.clean_body.str.len() > 70].sort_values('comment_upvotes', ascending=False).head(2)"
   ]
  },
  {
   "cell_type": "code",
   "execution_count": 11,
   "metadata": {},
   "outputs": [],
   "source": [
    "sia = SentimentIntensityAnalyzer()\n",
    "sia.polarity_scores(df['clean_body'][29])\n",
    "\n",
    "\n",
    "def vader_sentiment(row):\n",
    "    vader_res = sia.polarity_scores(row['clean_body'])\n",
    "    \n",
    "    if vader_res['pos'] > 0.3:\n",
    "        return 1\n",
    "    elif vader_res['neg'] > 0.01:\n",
    "        return -1\n",
    "    \n",
    "    return 0"
   ]
  },
  {
   "cell_type": "code",
   "execution_count": 12,
   "metadata": {},
   "outputs": [],
   "source": [
    "df['vader_sentiment'] = df.apply(vader_sentiment, axis=1)"
   ]
  },
  {
   "cell_type": "code",
   "execution_count": 22,
   "metadata": {},
   "outputs": [],
   "source": [
    "for sr in df.subreddit.unique():\n",
    "    df[df.vader_sentiment == 1][df.tb_sentiment == 1][df.clean_body.str.len() > 40][df.subreddit == sr].sort_values('comment_upvotes', ascending=False).head(20).to_csv(f'{sr}_top20.csv')"
   ]
  },
  {
   "cell_type": "code",
   "execution_count": 18,
   "metadata": {},
   "outputs": [
    {
     "output_type": "execute_result",
     "data": {
      "text/plain": [
       "array(['ibs', 'UlcerativeColitis', 'CrohnsDisease', 'Celiac'],\n",
       "      dtype=object)"
      ]
     },
     "metadata": {},
     "execution_count": 18
    }
   ],
   "source": [
    "df.subreddit.unique()"
   ]
  },
  {
   "cell_type": "code",
   "execution_count": null,
   "metadata": {},
   "outputs": [],
   "source": []
  }
 ],
 "metadata": {
  "kernelspec": {
   "name": "python3",
   "display_name": "Python 3.7.9 64-bit ('airgrid': conda)",
   "metadata": {
    "interpreter": {
     "hash": "dd642627f12a8f265e50914df01fa047dcb2146d2660cc387fd1dde5fb082cfb"
    }
   }
  },
  "language_info": {
   "codemirror_mode": {
    "name": "ipython",
    "version": 3
   },
   "file_extension": ".py",
   "mimetype": "text/x-python",
   "name": "python",
   "nbconvert_exporter": "python",
   "pygments_lexer": "ipython3",
   "version": "3.7.9-final"
  },
  "orig_nbformat": 2
 },
 "nbformat": 4,
 "nbformat_minor": 2
}